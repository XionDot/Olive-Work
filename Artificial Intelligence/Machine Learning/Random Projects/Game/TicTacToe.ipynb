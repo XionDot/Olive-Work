{
 "cells": [
  {
   "cell_type": "code",
   "execution_count": 6,
   "metadata": {},
   "outputs": [
    {
     "ename": "NameError",
     "evalue": "name 'gameloop' is not defined",
     "output_type": "error",
     "traceback": [
      "\u001b[0;31m---------------------------------------------------------------------------\u001b[0m",
      "\u001b[0;31mNameError\u001b[0m                                 Traceback (most recent call last)",
      "\u001b[0;32m<ipython-input-6-7b06e723823a>\u001b[0m in \u001b[0;36m<module>\u001b[0;34m\u001b[0m\n\u001b[1;32m     73\u001b[0m     \u001b[0mempty_cell_count\u001b[0m \u001b[0;34m=\u001b[0m \u001b[0msum\u001b[0m\u001b[0;34m(\u001b[0m\u001b[0;36m1\u001b[0m \u001b[0;32mfor\u001b[0m \u001b[0mcell\u001b[0m \u001b[0;32min\u001b[0m \u001b[0mboard\u001b[0m \u001b[0;32mif\u001b[0m \u001b[0mcell\u001b[0m \u001b[0;34m==\u001b[0m \u001b[0mEMPTY_SIGN\u001b[0m\u001b[0;34m)\u001b[0m\u001b[0;34m\u001b[0m\u001b[0;34m\u001b[0m\u001b[0m\n\u001b[1;32m     74\u001b[0m     \u001b[0mprint\u001b[0m\u001b[0;34m(\u001b[0m\u001b[0;34m'Game has been ended.'\u001b[0m\u001b[0;34m)\u001b[0m\u001b[0;34m\u001b[0m\u001b[0;34m\u001b[0m\u001b[0m\n\u001b[0;32m---> 75\u001b[0;31m \u001b[0mgameloop\u001b[0m\u001b[0;34m(\u001b[0m\u001b[0;34m)\u001b[0m\u001b[0;34m\u001b[0m\u001b[0;34m\u001b[0m\u001b[0m\n\u001b[0m",
      "\u001b[0;31mNameError\u001b[0m: name 'gameloop' is not defined"
     ]
    }
   ],
   "source": [
    "from random import choice\n",
    "choice([2, 4, 6, 8])\n",
    "combo_indices = [\n",
    "    [0,1,2],\n",
    "    [3,4,5],\n",
    "    [6,7,8],\n",
    "    [0,3,6],\n",
    "    [1,4,7],\n",
    "    [2,5,8],\n",
    "    [0,4,8],\n",
    "    [2,4,6]\n",
    "    ]\n",
    "EMPTY_SIGN = '.'\n",
    "AI_SIGN = 'X'\n",
    "PLAYER_SIGN = '0'\n",
    "def print_board(board):\n",
    "    print(\" \")\n",
    "    print(' '.join(board[:3]))\n",
    "    print(' '.join(board[3:6]))\n",
    "    print(' '.join(board[6:]))\n",
    "    print(\" \")\n",
    "    \n",
    "def opponent_move(board, row, column):\n",
    "    index = 3 * (row - 1) + (column - 1)\n",
    "    if board[index] == EMPTY_SIGN:\n",
    "        return board[:index] + OPPONENT_SIGN + board[index+1:]\n",
    "    return board\n",
    "def opponent_move(board, row, column):\n",
    "    index = 3 * (row - 1) + (column - 1)\n",
    "    if board[index] == EMPTY_SIGN:\n",
    "        return board[:index] + OPPONENT_SIGN + board[index+1:]\n",
    "    return board\n",
    "def opponent_move(board, row, column):\n",
    "    index = 3 * (row - 1) + (column - 1)\n",
    "    if board[index] == EMPTY_SIGN:\n",
    "        return board[:index] + OPPONENT_SIGN + board[index+1:]\n",
    "    return board\n",
    "def all_moves_from_board_list(board, sign):\n",
    "    move_list = []\n",
    "    for i, v in enumerate(board):\n",
    "        if v == EMPTY_SIGN:\n",
    "            move_list.append(board[:i] + sign + board[i+1:])\n",
    "    return move_list\n",
    "def ai_move(board):\n",
    "    return choice(all_moves_from_board_list(board, AI_SIGN))\n",
    "def all_moves_from_board_list(board, sign):\n",
    "    move_list = []\n",
    "    for i, v in enumerate(board):\n",
    "        if v == EMPTY_SIGN:\n",
    "            move_list.append(board[:i] + sign + board[i+1:])\n",
    "    return move_list\n",
    "def ai_move(board):\n",
    "    return choice(all_moves_from_board_list(board, AI_SIGN))\n",
    "    \n",
    "def game_won_by(board):\n",
    "    for index in combo_indices:\n",
    "        if board[index[0]] == board[index[1]] == board[index[2]] != EMPTY_SIGN:\n",
    "            return board[index[0]]\n",
    "    return EMPTY_SIGN\n",
    "def game_loop():\n",
    "    board = EMPTY_SIGN * 9\n",
    "    empty_cell_count = 9\n",
    "    is_game_ended = False\n",
    "    while empty_cell_count > 0 and not is_game_ended:\n",
    "        if empty_cell_count % 2 == 1:\n",
    "            board = ai_move(board)\n",
    "        else:\n",
    "            row = int(input('Enter row: '))\n",
    "            col = int(input('Enter column: '))\n",
    "            board = opponent_move(board, row, col)\n",
    "        print_board(board)\n",
    "        is_game_ended = game_won_by(board) != EMPTY_SIGN\n",
    "    empty_cell_count = sum(1 for cell in board if cell == EMPTY_SIGN)\n",
    "    print('Game has been ended.')"
   ]
  },
  {
   "cell_type": "code",
   "execution_count": 7,
   "metadata": {},
   "outputs": [
    {
     "name": "stdout",
     "output_type": "stream",
     "text": [
      " \n",
      ". . .\n",
      ". . .\n",
      ". X .\n",
      " \n",
      " \n",
      ". . .\n",
      ". . .\n",
      ". X X\n",
      " \n",
      " \n",
      "X . .\n",
      ". . .\n",
      ". X X\n",
      " \n",
      " \n",
      "X . .\n",
      ". . X\n",
      ". X X\n",
      " \n",
      " \n",
      "X X .\n",
      ". . X\n",
      ". X X\n",
      " \n",
      " \n",
      "X X .\n",
      ". X X\n",
      ". X X\n",
      " \n",
      "Game has been ended.\n"
     ]
    }
   ],
   "source": [
    "game_loop()"
   ]
  },
  {
   "cell_type": "code",
   "execution_count": null,
   "metadata": {},
   "outputs": [],
   "source": []
  }
 ],
 "metadata": {
  "kernelspec": {
   "display_name": "Python 3",
   "language": "python",
   "name": "python3"
  },
  "language_info": {
   "codemirror_mode": {
    "name": "ipython",
    "version": 3
   },
   "file_extension": ".py",
   "mimetype": "text/x-python",
   "name": "python",
   "nbconvert_exporter": "python",
   "pygments_lexer": "ipython3",
   "version": "3.8.2"
  }
 },
 "nbformat": 4,
 "nbformat_minor": 2
}
